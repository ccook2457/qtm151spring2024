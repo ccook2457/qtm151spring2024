{
 "cells": [
  {
   "cell_type": "code",
   "execution_count": 2,
   "metadata": {},
   "outputs": [],
   "source": [
    "import numpy as np \n",
    "import matplotlib.pyplot as plt\n",
    "import pandas as pd"
   ]
  },
  {
   "cell_type": "code",
   "execution_count": 3,
   "metadata": {},
   "outputs": [
    {
     "name": "stdout",
     "output_type": "stream",
     "text": [
      "[None, None, None]\n"
     ]
    }
   ],
   "source": [
    "list_answers = [None,None,None]\n",
    "print(list_answers)"
   ]
  },
  {
   "cell_type": "code",
   "execution_count": 4,
   "metadata": {},
   "outputs": [],
   "source": [
    "list_answers[0] = \"New York\""
   ]
  },
  {
   "cell_type": "code",
   "execution_count": 5,
   "metadata": {},
   "outputs": [
    {
     "name": "stdout",
     "output_type": "stream",
     "text": [
      "[]\n"
     ]
    }
   ],
   "source": [
    "new_list = []\n",
    "print(new_list)"
   ]
  },
  {
   "cell_type": "code",
   "execution_count": 6,
   "metadata": {},
   "outputs": [
    {
     "name": "stdout",
     "output_type": "stream",
     "text": [
      "['New York', None, None]\n"
     ]
    }
   ],
   "source": [
    "print(list_answers)"
   ]
  },
  {
   "cell_type": "code",
   "execution_count": 8,
   "metadata": {},
   "outputs": [
    {
     "name": "stdout",
     "output_type": "stream",
     "text": [
      "[5, 5, 5, 5, 5, 5, 5, 5, 5, 5]\n"
     ]
    }
   ],
   "source": [
    "list_two_rep = [5]*10\n",
    "print(list_two_rep)"
   ]
  },
  {
   "cell_type": "code",
   "execution_count": 9,
   "metadata": {},
   "outputs": [
    {
     "name": "stdout",
     "output_type": "stream",
     "text": [
      "[1, 2, 3, 1, 2, 3, 1, 2, 3, 1, 2, 3, 1, 2, 3]\n"
     ]
    }
   ],
   "source": [
    "list_a = [1,2,3]\n",
    "print(list_a*5)"
   ]
  },
  {
   "cell_type": "code",
   "execution_count": 11,
   "metadata": {},
   "outputs": [
    {
     "name": "stdout",
     "output_type": "stream",
     "text": [
      "[0.5 1.  1.5]\n"
     ]
    }
   ],
   "source": [
    "vec_a = np.array(list_a)\n",
    "print(vec_a*(1/2))"
   ]
  },
  {
   "cell_type": "code",
   "execution_count": 12,
   "metadata": {},
   "outputs": [
    {
     "name": "stdout",
     "output_type": "stream",
     "text": [
      "3\n"
     ]
    }
   ],
   "source": [
    "print(len(list_answers))"
   ]
  },
  {
   "cell_type": "code",
   "execution_count": 13,
   "metadata": {},
   "outputs": [
    {
     "name": "stdout",
     "output_type": "stream",
     "text": [
      "3\n"
     ]
    }
   ],
   "source": [
    "list_personal = [3,8,12]\n",
    "print(len(list_personal))"
   ]
  },
  {
   "cell_type": "code",
   "execution_count": 14,
   "metadata": {},
   "outputs": [
    {
     "name": "stdout",
     "output_type": "stream",
     "text": [
      "KIA\n",
      "Dear customer, we are writing about your KIA car\n",
      "Ferrari\n",
      "Dear customer, we are writing about your Ferrari car\n",
      "Ford\n",
      "Dear customer, we are writing about your Ford car\n",
      "Tesla\n",
      "Dear customer, we are writing about your Tesla car\n"
     ]
    }
   ],
   "source": [
    "list_ids = [\"KIA\",\"Ferrari\",\"Ford\",\"Tesla\"]\n",
    "for id in list_ids:\n",
    "    print(id)\n",
    "    print(\"Dear customer, we are writing about your \" + id + \" car\")"
   ]
  },
  {
   "cell_type": "code",
   "execution_count": 15,
   "metadata": {},
   "outputs": [
    {
     "name": "stdout",
     "output_type": "stream",
     "text": [
      "KIA\n",
      "Ferrari\n",
      "Ford\n",
      "Tesla\n",
      "a\n",
      "b\n",
      "c\n"
     ]
    }
   ],
   "source": [
    "for id in list_ids + ['a', 'b', 'c']:\n",
    "    print(id)"
   ]
  },
  {
   "cell_type": "code",
   "execution_count": 17,
   "metadata": {},
   "outputs": [
    {
     "name": "stdout",
     "output_type": "stream",
     "text": [
      "We are out of the loop 1\n",
      "Dear customer, your position is 1 on the waitlist  and your car brand is KIA\n",
      "We are inside the loop 2\n",
      "Dear customer, your position is 2 on the waitlist  and your car brand is Ferrari\n",
      "We are inside the loop 3\n",
      "Dear customer, your position is 3 on the waitlist  and your car brand is Ford\n",
      "We are inside the loop 4\n",
      "Dear customer, your position is 4 on the waitlist  and your car brand is Tesla\n",
      "We are inside the loop 5\n"
     ]
    }
   ],
   "source": [
    "index = 1\n",
    "\n",
    "print(\"We are out of the loop\", index)\n",
    "for id in list_ids:\n",
    "    print(\"Dear customer, your position is \" + str(index) + \" on the waitlist \" + \" and your car brand is \" + id)\n",
    "    index = index + 1\n",
    "    print(\"We are inside the loop\", index)"
   ]
  },
  {
   "cell_type": "code",
   "execution_count": 20,
   "metadata": {},
   "outputs": [
    {
     "name": "stdout",
     "output_type": "stream",
     "text": [
      "Dear customer, your position is 1 on the waitlist and your car brand is KIA\n",
      "Dear customer, your position is 2 on the waitlist and your car brand is Ferrari\n",
      "Dear customer, your position is 3 on the waitlist and your car brand is Ford\n",
      "Dear customer, your position is 4 on the waitlist and your car brand is Tesla\n"
     ]
    }
   ],
   "source": [
    "for n in range(len(list_ids)):\n",
    "    print(\"Dear customer, your position is \" + str(n+1) + \" on the waitlist\" + \" and your car brand is \" + list_ids[n])"
   ]
  }
 ],
 "metadata": {
  "kernelspec": {
   "display_name": "base",
   "language": "python",
   "name": "python3"
  },
  "language_info": {
   "codemirror_mode": {
    "name": "ipython",
    "version": 3
   },
   "file_extension": ".py",
   "mimetype": "text/x-python",
   "name": "python",
   "nbconvert_exporter": "python",
   "pygments_lexer": "ipython3",
   "version": "3.11.5"
  }
 },
 "nbformat": 4,
 "nbformat_minor": 2
}
