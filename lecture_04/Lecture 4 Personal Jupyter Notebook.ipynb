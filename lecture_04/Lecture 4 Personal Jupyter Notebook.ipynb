{
 "cells": [
  {
   "cell_type": "code",
   "execution_count": 1,
   "metadata": {},
   "outputs": [],
   "source": [
    "import numpy as np\n",
    "import matplotlib.pyplot as plt"
   ]
  },
  {
   "cell_type": "code",
   "execution_count": 5,
   "metadata": {},
   "outputs": [
    {
     "name": "stdout",
     "output_type": "stream",
     "text": [
      "Test the Equality of Strings\n",
      "Remember: the equality of strings are case sensitive\n"
     ]
    },
    {
     "data": {
      "text/plain": [
       "False"
      ]
     },
     "execution_count": 5,
     "metadata": {},
     "output_type": "execute_result"
    }
   ],
   "source": [
    "print(\"Test the Equality of Strings\")\n",
    "print(\"Remember: the equality of strings are case sensitive\")\n",
    "\"Is this real life\" == \"Is this just fantasy\""
   ]
  },
  {
   "cell_type": "code",
   "execution_count": 8,
   "metadata": {},
   "outputs": [
    {
     "name": "stdout",
     "output_type": "stream",
     "text": [
      "False\n"
     ]
    }
   ],
   "source": [
    "any_questions = \"no\"\n",
    "print(any_questions == \"yes\")"
   ]
  },
  {
   "cell_type": "code",
   "execution_count": 10,
   "metadata": {},
   "outputs": [
    {
     "name": "stdout",
     "output_type": "stream",
     "text": [
      "This can be used to tailor your resume using keywords\n"
     ]
    },
    {
     "data": {
      "text/plain": [
       "True"
      ]
     },
     "execution_count": 10,
     "metadata": {},
     "output_type": "execute_result"
    }
   ],
   "source": [
    "print(\"This can be used to tailor your resume using keywords\")\n",
    "keyword = \"forecasts\"\n",
    "sentence = \"The Federal Reserve makes forecasts about many economic outcomes\"\n",
    "\n",
    "keyword in sentence"
   ]
  },
  {
   "cell_type": "code",
   "execution_count": 11,
   "metadata": {},
   "outputs": [
    {
     "name": "stdout",
     "output_type": "stream",
     "text": [
      "False\n",
      "True\n"
     ]
    }
   ],
   "source": [
    "current_month  = \"January\"\n",
    "list_summer_months = [\"June\",\"July\",\"August\"]\n",
    "print(current_month in list_summer_months)\n",
    "print(\"August\" in list_summer_months)"
   ]
  },
  {
   "cell_type": "code",
   "execution_count": 13,
   "metadata": {},
   "outputs": [
    {
     "data": {
      "text/plain": [
       "True"
      ]
     },
     "execution_count": 13,
     "metadata": {},
     "output_type": "execute_result"
    }
   ],
   "source": [
    "color = \"red\"\n",
    "color_list = [\"red\",\"green\",\"yellow\",\"orange\"]\n",
    "color in color_list"
   ]
  },
  {
   "cell_type": "code",
   "execution_count": 15,
   "metadata": {},
   "outputs": [
    {
     "name": "stdout",
     "output_type": "stream",
     "text": [
      "False\n",
      "False\n",
      "False\n",
      "True\n",
      "True\n"
     ]
    }
   ],
   "source": [
    "x = 10\n",
    "print( x < 5 )\n",
    "print( x <= 5 )\n",
    "print( x == 5 )\n",
    "print( x >= 5 )\n",
    "print( x > 5 )"
   ]
  },
  {
   "cell_type": "code",
   "execution_count": 18,
   "metadata": {},
   "outputs": [
    {
     "name": "stdout",
     "output_type": "stream",
     "text": [
      "False\n",
      "False\n",
      "True\n",
      "<class 'str'>\n"
     ]
    }
   ],
   "source": [
    "y = \"Hello\"\n",
    "\n",
    "print( isinstance(y,int)  )\n",
    "print( isinstance(y,float) )\n",
    "print( isinstance(y,str) )\n",
    "\n",
    "print(type(y))"
   ]
  },
  {
   "cell_type": "code",
   "execution_count": 20,
   "metadata": {},
   "outputs": [
    {
     "name": "stdout",
     "output_type": "stream",
     "text": [
      "Application to Linear Algebra\n"
     ]
    },
    {
     "data": {
      "text/plain": [
       "array([ True,  True, False])"
      ]
     },
     "execution_count": 20,
     "metadata": {},
     "output_type": "execute_result"
    }
   ],
   "source": [
    "print(\"Application to Linear Algebra\")\n",
    "vec_a = np.array([1,2,3])\n",
    "vec_b = np.array([1,2,4])\n",
    "\n",
    "vec_a == vec_b"
   ]
  },
  {
   "cell_type": "code",
   "execution_count": 23,
   "metadata": {},
   "outputs": [
    {
     "data": {
      "text/plain": [
       "False"
      ]
     },
     "execution_count": 23,
     "metadata": {},
     "output_type": "execute_result"
    }
   ],
   "source": [
    "x = 5\n",
    "np.exp(x) < 50"
   ]
  },
  {
   "cell_type": "code",
   "execution_count": 24,
   "metadata": {},
   "outputs": [
    {
     "data": {
      "text/plain": [
       "True"
      ]
     },
     "execution_count": 24,
     "metadata": {},
     "output_type": "execute_result"
    }
   ],
   "source": [
    "x = -1\n",
    "(x**2) + (2*x) + 1 == 0"
   ]
  },
  {
   "cell_type": "code",
   "execution_count": 26,
   "metadata": {},
   "outputs": [
    {
     "name": "stdout",
     "output_type": "stream",
     "text": [
      "This person can vote in the U.S.\n"
     ]
    },
    {
     "data": {
      "text/plain": [
       "True"
      ]
     },
     "execution_count": 26,
     "metadata": {},
     "output_type": "execute_result"
    }
   ],
   "source": [
    "print(\"This person can vote in the U.S.\")\n",
    "age = 22\n",
    "\n",
    "not(age < 18)"
   ]
  },
  {
   "cell_type": "code",
   "execution_count": 32,
   "metadata": {},
   "outputs": [
    {
     "name": "stdout",
     "output_type": "stream",
     "text": [
      "How to test whether a value is in an interval: ampersand means and\n"
     ]
    },
    {
     "data": {
      "text/plain": [
       "False"
      ]
     },
     "execution_count": 32,
     "metadata": {},
     "output_type": "execute_result"
    }
   ],
   "source": [
    "print(\"How to test whether a value is in an interval: ampersand means and\")\n",
    "age = 5\n",
    "( age >= 20 ) & (age <= 30)"
   ]
  },
  {
   "cell_type": "code",
   "execution_count": 39,
   "metadata": {},
   "outputs": [
    {
     "name": "stdout",
     "output_type": "stream",
     "text": [
      "the | symbol means or\n"
     ]
    },
    {
     "data": {
      "text/plain": [
       "True"
      ]
     },
     "execution_count": 39,
     "metadata": {},
     "output_type": "execute_result"
    }
   ],
   "source": [
    "print(\"the | symbol means or\")\n",
    "age = 45\n",
    "(age < 20) | (age > 30)\n"
   ]
  },
  {
   "cell_type": "code",
   "execution_count": 40,
   "metadata": {},
   "outputs": [
    {
     "data": {
      "text/plain": [
       "False"
      ]
     },
     "execution_count": 40,
     "metadata": {},
     "output_type": "execute_result"
    }
   ],
   "source": [
    "age = 45\n",
    "(25 <= age <= 27)"
   ]
  },
  {
   "cell_type": "code",
   "execution_count": 43,
   "metadata": {},
   "outputs": [
    {
     "name": "stdout",
     "output_type": "stream",
     "text": [
      "Flow Control\n",
      "Need to give more explanations\n"
     ]
    }
   ],
   "source": [
    "print(\"Flow Control\")\n",
    "\n",
    "any_questions = \"yes\"\n",
    "if any_questions == \"yes\":\n",
    "    print(\"Need to give more explanations\")"
   ]
  },
  {
   "cell_type": "code",
   "execution_count": 44,
   "metadata": {},
   "outputs": [
    {
     "name": "stdout",
     "output_type": "stream",
     "text": [
      "Don't need to give more expanations\n"
     ]
    }
   ],
   "source": [
    "any_questions = \"no\"\n",
    "if any_questions == \"yes\":\n",
    "    print(\"Need to give more explanations\")\n",
    "else:\n",
    "    print(\"Don't need to give more expanations\")\n"
   ]
  },
  {
   "cell_type": "code",
   "execution_count": null,
   "metadata": {},
   "outputs": [],
   "source": [
    "years_in_program = 1\n",
    "\n",
    "if years_in_program == 1:\n",
    "    print(\"This student is a freshman\")\n",
    "elif years_in_program == 2:\n",
    "    print(\"This student is a sophomore\")\n",
    "elif years_in_program == 3:\n",
    "    print(\"This student is a junior\")\n",
    "else:\n",
    "    print(\"This student is a senior\")"
   ]
  }
 ],
 "metadata": {
  "kernelspec": {
   "display_name": "base",
   "language": "python",
   "name": "python3"
  },
  "language_info": {
   "codemirror_mode": {
    "name": "ipython",
    "version": 3
   },
   "file_extension": ".py",
   "mimetype": "text/x-python",
   "name": "python",
   "nbconvert_exporter": "python",
   "pygments_lexer": "ipython3",
   "version": "3.11.5"
  }
 },
 "nbformat": 4,
 "nbformat_minor": 2
}
