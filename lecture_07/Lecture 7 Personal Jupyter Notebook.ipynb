{
 "cells": [
  {
   "cell_type": "code",
   "execution_count": 1,
   "metadata": {},
   "outputs": [],
   "source": [
    "import numpy as np\n",
    "import matplotlib.pyplot as plt\n",
    "import pandas as pd"
   ]
  },
  {
   "cell_type": "code",
   "execution_count": 4,
   "metadata": {},
   "outputs": [
    {
     "name": "stdout",
     "output_type": "stream",
     "text": [
      "Hello 24\n"
     ]
    },
    {
     "data": {
      "text/plain": [
       "str"
      ]
     },
     "execution_count": 4,
     "metadata": {},
     "output_type": "execute_result"
    }
   ],
   "source": [
    "print(\"Hello \"+str(24))\n",
    "type(\"ABC\")"
   ]
  },
  {
   "cell_type": "code",
   "execution_count": 6,
   "metadata": {},
   "outputs": [
    {
     "name": "stdout",
     "output_type": "stream",
     "text": [
      "Common Functions in Python\n"
     ]
    }
   ],
   "source": [
    "print(\"Common Functions in Python\")\n",
    "\n",
    "vec_x = np.random.chisquare(df = 2, size = 20)\n",
    "vec_y = np.random.normal(loc = 2, scale = 1, size = 20)\n",
    "vec_z = np.random.uniform(low = -2, high =2, size = 50)"
   ]
  },
  {
   "cell_type": "code",
   "execution_count": 9,
   "metadata": {},
   "outputs": [
    {
     "name": "stdout",
     "output_type": "stream",
     "text": [
      "Example of Creating Your Own Function in Python\n"
     ]
    }
   ],
   "source": [
    "print(\"Example of Creating Your Own Function in Python\")\n",
    "\n",
    "def function_v(P, r,n, t):\n",
    "    v = P*(1+(r/n))**(n*t)\n",
    "    return v\n",
    "\n",
    "function_v(P=100, r = 0.01, n = 20, t=10)\n",
    "V1 = function_v(P = 1000, r = 0.01, n = 20, t=10)\n",
    "V2 = function_v(P = 10, r = 0.01, n = 20, t=10)"
   ]
  },
  {
   "cell_type": "code",
   "execution_count": 18,
   "metadata": {},
   "outputs": [
    {
     "data": {
      "text/plain": [
       "81"
      ]
     },
     "execution_count": 18,
     "metadata": {},
     "output_type": "execute_result"
    }
   ],
   "source": [
    "def function_x(x):\n",
    "    y = (x**2)+(2*x)+1\n",
    "    return y\n",
    "function_x(8)"
   ]
  },
  {
   "cell_type": "code",
   "execution_count": 19,
   "metadata": {},
   "outputs": [
    {
     "name": "stdout",
     "output_type": "stream",
     "text": [
      "You Can Also Define Conditional Functions\n"
     ]
    }
   ],
   "source": [
    "print(\"You Can Also Define Conditional Functions\")\n",
    "\n",
    "def f_num(numeric_grade):\n",
    "    if numeric_grade>=50:\n",
    "        return 'pass'\n",
    "    else:\n",
    "        return 'fail'"
   ]
  },
  {
   "cell_type": "code",
   "execution_count": 23,
   "metadata": {},
   "outputs": [
    {
     "name": "stdout",
     "output_type": "stream",
     "text": [
      "Dear Customer Charles Cook, your car model Mercedes is ready\n"
     ]
    }
   ],
   "source": [
    "def car_model(first_name,last_name,car_model):\n",
    "    return print(\"Dear Customer \" + first_name + \" \" + last_name + \", your car model \" + car_model + \" is ready\")\n",
    "\n",
    "car_model(\"Charles\",\"Cook\",\"Mercedes\")\n"
   ]
  },
  {
   "cell_type": "code",
   "execution_count": 25,
   "metadata": {},
   "outputs": [
    {
     "name": "stdout",
     "output_type": "stream",
     "text": [
      "For Future Reference: You can break long linesof code into different lines\n"
     ]
    }
   ],
   "source": [
    "print(\"For Future Reference: You can break long lines\" \n",
    "\"of code into different lines\")"
   ]
  },
  {
   "cell_type": "code",
   "execution_count": 26,
   "metadata": {},
   "outputs": [
    {
     "name": "stdout",
     "output_type": "stream",
     "text": [
      "Lambda Functions are defined in one line\n"
     ]
    },
    {
     "data": {
      "text/plain": [
       "6"
      ]
     },
     "execution_count": 26,
     "metadata": {},
     "output_type": "execute_result"
    }
   ],
   "source": [
    "print(\"Lambda Functions are defined in one line\")\n",
    "\n",
    "fn_sum = lambda x,y,z: x + y + z\n",
    "\n",
    "fn_sum(1,2,3)"
   ]
  },
  {
   "cell_type": "code",
   "execution_count": 29,
   "metadata": {},
   "outputs": [
    {
     "data": {
      "text/plain": [
       "False"
      ]
     },
     "execution_count": 29,
     "metadata": {},
     "output_type": "execute_result"
    }
   ],
   "source": [
    "fn_iseligible_vote = lambda age: age >= 18\n",
    "fn_iseligible_vote(16)"
   ]
  },
  {
   "cell_type": "code",
   "execution_count": 33,
   "metadata": {},
   "outputs": [
    {
     "name": "stdout",
     "output_type": "stream",
     "text": [
      "Age 18 is eligible? True\n",
      "Age 29 is eligible? True\n",
      "Age 15 is eligible? False\n",
      "Age 32 is eligible? True\n",
      "Age 6 is eligible? False\n"
     ]
    }
   ],
   "source": [
    "list_ages = [18,29,15,32,6]\n",
    "\n",
    "for ages in list_ages:\n",
    "    print(\"Age \" + str(ages) + \" is eligible? \" + str(fn_iseligible_vote(ages)))"
   ]
  },
  {
   "cell_type": "code",
   "execution_count": 34,
   "metadata": {},
   "outputs": [
    {
     "data": {
      "image/png": "[encoded data removed]",
      "text/plain": [
       "<Figure size 640x480 with 1 Axes>"
      ]
     },
     "metadata": {},
     "output_type": "display_data"
    }
   ],
   "source": [
    "def blue_hist(vec_x,title):\n",
    "    plt.hist(x = vec_x,color=\"blue\")\n",
    "    plt.title(title)\n",
    "    plt.xlabel(\"Cars\")\n",
    "    plt.ylabel(\"Frequency\")\n",
    "\n",
    "carfeatures = pd.read_csv(\"data/features.csv\")\n",
    "\n",
    "blue_hist(vec_x = carfeatures[\"weight\"], title = \"Histogram\")"
   ]
  }
 ],
 "metadata": {
  "kernelspec": {
   "display_name": "base",
   "language": "python",
   "name": "python3"
  },
  "language_info": {
   "codemirror_mode": {
    "name": "ipython",
    "version": 3
   },
   "file_extension": ".py",
   "mimetype": "text/x-python",
   "name": "python",
   "nbconvert_exporter": "python",
   "pygments_lexer": "ipython3",
   "version": "3.11.5"
  }
 },
 "nbformat": 4,
 "nbformat_minor": 2
}
